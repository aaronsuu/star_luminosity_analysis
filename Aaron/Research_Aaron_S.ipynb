{
 "cells": [
  {
   "cell_type": "markdown",
   "id": "6e35774f",
   "metadata": {},
   "source": [
    "# ASTRO 9 - Final Project - Luminosity Analysis \n"
   ]
  },
  {
   "cell_type": "markdown",
   "id": "288aaf2f",
   "metadata": {},
   "source": [
    "Orbital Periods vs. Luminosity"
   ]
  },
  {
   "cell_type": "code",
   "execution_count": 2,
   "id": "045ffe02",
   "metadata": {},
   "outputs": [],
   "source": [
    "########################################\n",
    "### This file is created by: Aaron Su###\n",
    "## University of California - Berkeley##\n",
    "############# Astronomy 9 ##############\n",
    "############# Summer 2022 ##############\n",
    "#    _                     _                 _ _            ___              _           _     \n",
    "#   | |                   (_)               (_) |          / _ \\            | |         (_)    \n",
    "#   | |    _   _ _ __ ___  _ _ __   ___  ___ _| |_ _   _  / /_\\ \\_ __   __ _| |_   _ ___ _ ___ \n",
    "#   | |   | | | | '_ ` _ \\| | '_ \\ / _ \\/ __| | __| | | | |  _  | '_ \\ / _` | | | | / __| / __|\n",
    "#   | |___| |_| | | | | | | | | | | (_) \\__ \\ | |_| |_| | | | | | | | | (_| | | |_| \\__ \\ \\__ \\\n",
    "#   \\_____/\\__,_|_| |_| |_|_|_| |_|\\___/|___/_|\\__|\\__, | \\_| |_/_| |_|\\__,_|_|\\__, |___/_|___/\n",
    "#                                                __/ |                       __/ |          \n",
    "#                                               |___/                       |___/           \n",
    "#\n",
    "#\n",
    "# Version 0.0.1\n",
    "\n",
    "\n",
    "import numpy as np\n",
    "import matplotlib.pyplot as plt\n",
    "import pandas as plt\n",
    "import scipy.integrate as scint\n",
    "import scipy.optimize as sco"
   ]
  },
  {
   "cell_type": "code",
   "execution_count": null,
   "id": "6d4f3b5b",
   "metadata": {},
   "outputs": [],
   "source": []
  }
 ],
 "metadata": {
  "kernelspec": {
   "display_name": "Python 3.9.12 ('base')",
   "language": "python",
   "name": "python3"
  },
  "language_info": {
   "codemirror_mode": {
    "name": "ipython",
    "version": 3
   },
   "file_extension": ".py",
   "mimetype": "text/x-python",
   "name": "python",
   "nbconvert_exporter": "python",
   "pygments_lexer": "ipython3",
   "version": "3.9.12"
  },
  "vscode": {
   "interpreter": {
    "hash": "80a93910b6ddd771e6649becc50c73cb2ee3264e66bce87c9fd88e4d3ddf5fd6"
   }
  }
 },
 "nbformat": 4,
 "nbformat_minor": 5
}
